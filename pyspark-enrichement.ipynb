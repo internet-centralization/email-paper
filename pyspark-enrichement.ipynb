{
 "cells": [
  {
   "cell_type": "code",
   "execution_count": null,
   "id": "9429e1da",
   "metadata": {},
   "outputs": [],
   "source": [
    "import os\n",
    "import numpy as np\n",
    "import pandas as pd\n",
    "import subprocess\n",
    "import json\n",
    "from datetime import datetime\n",
    "from dateutil import rrule\n",
    "\n",
    "# PySpark imports\n",
    "import pyspark\n",
    "import pyspark.sql.functions as psf\n",
    "import pyspark.sql.types as pst\n",
    "import pyspark.sql.functions as F\n",
    "import pyspark.sql.types as pst\n",
    "from pyspark.sql.functions import countDistinct\n",
    "from pyspark.sql import SparkSession\n",
    "from pyspark.sql.functions import col\n",
    "print('Ready imports')\n",
    "\n",
    "import os\n",
    "import sys\n",
    "\n",
    "os.environ['PYSPARK_PYTHON'] = sys.executable\n",
    "os.environ['PYSPARK_DRIVER_PYTHON'] = sys.executable"
   ]
  },
  {
   "cell_type": "code",
   "execution_count": null,
   "id": "073968c7",
   "metadata": {},
   "outputs": [],
   "source": [
    "spark = SparkSession.builder.getOrCreate()\n",
    "\n",
    "print('Started: ', datetime.now().replace(microsecond=0))"
   ]
  },
  {
   "cell_type": "code",
   "execution_count": null,
   "id": "144caa17",
   "metadata": {},
   "outputs": [],
   "source": [
    "# sc.stop()\n",
    "# print('Stoped:', datetime.now().replace(microsecond=0))"
   ]
  },
  {
   "cell_type": "code",
   "execution_count": null,
   "id": "1e5bedc3-20a1-4f9a-bfa9-d49fe20db039",
   "metadata": {},
   "outputs": [],
   "source": [
    "import pandas as pd\n",
    "\n",
    "country_dataset = pd.read_json(\"extra_data/countries.json\").T\n",
    "language_dataset = pd.read_json(\"extra_data/languages.json\").T\n",
    "\n",
    "country_dataset_df = spark.createDataFrame(\n",
    "    country_dataset.reset_index()[[\"index\", \"name\", \"continent\", \"languages\"]]\n",
    ").repartition(30)\n",
    "\n",
    "rows = [['COM', \"United States\", \"NA\", [\"\"]],\n",
    "        ['NET', \"United States\", \"NA\", [\"\"]],\n",
    "        ['ORG', \"United States\", \"NA\", [\"\"]],\n",
    "       ]\n",
    "columns = [\"index\", \"name\", \"continent\", \"languages\"]\n",
    "\n",
    "second_df = spark.createDataFrame(rows, columns)\n",
    "\n",
    "country_dataset_df = country_dataset_df.union(second_df)"
   ]
  },
  {
   "cell_type": "code",
   "execution_count": null,
   "id": "dac61898-e35e-4d6e-aa82-22b76ad9956e",
   "metadata": {},
   "outputs": [],
   "source": [
    "as2name2023 = (\n",
    "    (\n",
    "        spark.read.option(\"header\", \"true\").csv(\"extra_data/asn2organization.csv\")\n",
    "        .select(\"asn\", \"asn_name\", \"org_name\", \"source\", \"country\")\n",
    "    )\n",
    ")\n",
    "\n",
    "as2name2023.show()\n",
    "\n",
    "print(\"Load ok\")"
   ]
  },
  {
   "cell_type": "code",
   "execution_count": null,
   "id": "c28a0c1a",
   "metadata": {},
   "outputs": [],
   "source": [
    "# Read PARQUET file into dataframe\n",
    "df = spark.read.parquet(\"all_ipv4_queries.parquet\")\n",
    "\n",
    "df.show()\n"
   ]
  },
  {
   "cell_type": "code",
   "execution_count": null,
   "id": "fe1eeb6a-2fc4-4a3c-bb51-9fe7985dd0b3",
   "metadata": {},
   "outputs": [],
   "source": [
    "group = df.groupBy(\"asn\", \"tld\").count()\n",
    "\n",
    "group.sort(col(\"count\").desc()).show(10, truncate=False)"
   ]
  },
  {
   "cell_type": "code",
   "execution_count": null,
   "id": "f339a085-fad6-43d6-a724-e2f4109ffa3c",
   "metadata": {},
   "outputs": [],
   "source": [
    "full_domain_per_iptype_concentration = (group.join(\n",
    "        as2name2023, group[\"asn\"] == as2name2023[\"asn\"], \"inner\"\n",
    "    )\n",
    "    .join(\n",
    "        country_dataset_df.select(\"index\", \"continent\", \"languages\"),\n",
    "        as2name2023[\"country\"] == country_dataset_df[\"index\"],\n",
    "    ).drop(\"index\", \"source\")\n",
    "    .withColumn(\n",
    "        \"normalized_tld\",\n",
    "        F.when(F.col(\"tld\") == \".xn--p1ai.\", F.lit(\"RU\")).otherwise(\n",
    "            F.when(F.col(\"tld\") == \".uk.\", F.lit(\"GB\")).otherwise(\n",
    "                F.when(F.col(\"tld\") == \".com.\", F.lit(\"COM\")).otherwise(\n",
    "                    F.when(F.col(\"tld\") == \".net.\", F.lit(\"NET\")).otherwise(\n",
    "                        F.when(F.col(\"tld\") == \".org.\", F.lit(\"ORG\")).otherwise(\n",
    "                        F.upper(F.substring(F.col(\"TLD\"), 2, 2))\n",
    "        ))))),\n",
    "    ).join(\n",
    "        country_dataset_df.select(\n",
    "            F.col(\"index\").name(\"tld_index\"),\n",
    "            F.col(\"continent\").name(\"tld_continent\"),\n",
    "            F.col(\"languages\").name(\"tld_languages\"),\n",
    "        ),\n",
    "        F.col(\"normalized_tld\") == F.col(\"tld_index\"),\n",
    "    )\n",
    "    .drop(\"tld_index\")\n",
    "    .withColumn(\n",
    "        \"characteristic\",\n",
    "        F.when(\n",
    "            F.col(\"normalized_tld\") == F.col(\"country\"), F.lit(\"Local\")\n",
    "        ).otherwise(\n",
    "                F.when(\n",
    "                    (F.col(\"country\") == \"US\"), \"US Hosting\"\n",
    "                ).otherwise(\n",
    "                    F.when(\n",
    "                        F.arrays_overlap(F.col(\"languages\"), F.col(\"tld_languages\")),\n",
    "                        \"Language\",\n",
    "                    ).otherwise(\"Rest\")\n",
    "                )\n",
    "        ),\n",
    "    ).drop(\"languages\", \"tld_languages\"))\n",
    "    # full_domain_per_iptype_concentration.sort_values(by=['domain_count'], ascending=False, inplace=True)\n",
    "\n",
    "full_domain_per_iptype_concentration.sort(col(\"count\").desc()).show(truncate=False)"
   ]
  },
  {
   "cell_type": "code",
   "execution_count": null,
   "id": "d8570a9f-42c6-4cf9-9968-a0c3e98c7039",
   "metadata": {},
   "outputs": [],
   "source": [
    "group_tld = full_domain_per_iptype_concentration.groupBy(\"tld\").count()"
   ]
  },
  {
   "cell_type": "code",
   "execution_count": null,
   "id": "8abf8bcd-96d2-4c03-953c-1be39fa3f958",
   "metadata": {},
   "outputs": [],
   "source": [
    "full_domain_per_iptype_concentration = full_domain_per_iptype_concentration.sort(col(\"count\").desc())\n",
    "\n",
    "full_domain_per_iptype_concentration.write.format(\"csv\").save(\"tlds_new_ipv6/\", partitionBy=[\"tld\"])"
   ]
  },
  {
   "cell_type": "code",
   "execution_count": null,
   "id": "1feada6d-4821-4ee2-8f93-e6f6ffe48cda",
   "metadata": {},
   "outputs": [],
   "source": []
  },
  {
   "cell_type": "code",
   "execution_count": null,
   "id": "98ab01b6-c6db-428d-bde7-26ede940db6f",
   "metadata": {},
   "outputs": [],
   "source": []
  }
 ],
 "metadata": {
  "kernelspec": {
   "display_name": "Python 3 (ipykernel)",
   "language": "python",
   "name": "python3"
  },
  "language_info": {
   "codemirror_mode": {
    "name": "ipython",
    "version": 3
   },
   "file_extension": ".py",
   "mimetype": "text/x-python",
   "name": "python",
   "nbconvert_exporter": "python",
   "pygments_lexer": "ipython3",
   "version": "3.10.9"
  }
 },
 "nbformat": 4,
 "nbformat_minor": 5
}
