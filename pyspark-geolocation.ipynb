{
 "cells": [
  {
   "cell_type": "code",
   "execution_count": 1,
   "id": "9429e1da",
   "metadata": {},
   "outputs": [
    {
     "name": "stdout",
     "output_type": "stream",
     "text": [
      "Ready imports\n"
     ]
    }
   ],
   "source": [
    "import os\n",
    "import numpy as np\n",
    "import pandas as pd\n",
    "import subprocess\n",
    "import json\n",
    "from datetime import datetime\n",
    "from dateutil import rrule\n",
    "\n",
    "# PySpark imports\n",
    "import pyspark\n",
    "import pyspark.sql.functions as psf\n",
    "import pyspark.sql.types as pst\n",
    "import pyspark.sql.functions as F\n",
    "import pyspark.sql.types as pst\n",
    "from pyspark.sql.functions import countDistinct\n",
    "from pyspark.sql import SparkSession\n",
    "from pyspark.sql.functions import col\n",
    "print('Ready imports')\n",
    "\n",
    "import os\n",
    "import sys\n",
    "\n",
    "os.environ['PYSPARK_PYTHON'] = sys.executable\n",
    "os.environ['PYSPARK_DRIVER_PYTHON'] = sys.executable"
   ]
  },
  {
   "cell_type": "code",
   "execution_count": 11,
   "id": "073968c7",
   "metadata": {},
   "outputs": [
    {
     "name": "stdout",
     "output_type": "stream",
     "text": [
      "Started:  2023-03-30 15:26:27\n"
     ]
    }
   ],
   "source": [
    "spark = SparkSession.builder.getOrCreate()\n",
    "\n",
    "print('Started: ', datetime.now().replace(microsecond=0))"
   ]
  },
  {
   "cell_type": "code",
   "execution_count": 3,
   "id": "144caa17",
   "metadata": {},
   "outputs": [],
   "source": [
    "# sc.stop()\n",
    "# print('Stoped:', datetime.now().replace(microsecond=0))"
   ]
  },
  {
   "cell_type": "code",
   "execution_count": 12,
   "id": "c28a0c1a",
   "metadata": {},
   "outputs": [
    {
     "name": "stderr",
     "output_type": "stream",
     "text": [
      "                                                                                \r"
     ]
    },
    {
     "name": "stdout",
     "output_type": "stream",
     "text": [
      "+--------------------+--------------+--------------------+----------+------+-----+\n",
      "|              domain|  ipv4_address|          query_name|query_type|   asn|  tld|\n",
      "+--------------------+--------------+--------------------+----------+------+-----+\n",
      "|    sildenafilxm.com|162.255.118.51|eforward1.registr...|        MX| 22612|.com.|\n",
      "|   maxim-verdikt.com|  77.88.21.249|      mx.yandex.net.|        MX|208722|.com.|\n",
      "| dmitrysoshnikov.com| 77.222.41.100|    mx1.spaceweb.ru.|        MX| 44112|.com.|\n",
      "|        holoteam.com| 64.233.184.26|alt1.aspmx.l.goog...|        MX| 15169|.com.|\n",
      "|         farfesh.com| 142.250.27.27|alt2.aspmx.l.goog...|        MX| 15169|.com.|\n",
      "|  mammothweather.com|68.178.213.244|mailstore1.secure...|        MX| 26496|.com.|\n",
      "|        abbccoin.com| 64.233.184.27|alt1.aspmx.l.goog...|        MX| 15169|.com.|\n",
      "|         brainhi.com| 142.250.27.27|aspmx3.googlemail...|        MX| 15169|.com.|\n",
      "|        socialbu.com| 142.250.27.27|alt2.aspmx.l.goog...|        MX| 15169|.com.|\n",
      "|thenationalsentin...|162.255.118.13|mx3-hosting.jelly...|        MX| 22612|.com.|\n",
      "|        ttcombat.com|  104.47.21.36|ttcombat-com.mail...|        MX|  8075|.com.|\n",
      "|          macpeg.com|   52.101.8.38|macpeg-com.mail.p...|        MX|  8075|.com.|\n",
      "|  socialrockfish.com| 142.250.27.27|alt2.aspmx.l.goog...|        MX| 15169|.com.|\n",
      "|             44i.com|172.217.192.27| aspmx.l.google.com.|        MX| 15169|.com.|\n",
      "|   monkeylectric.com| 64.233.184.26|ASPMX2.GOOGLEMAIL...|        MX| 15169|.com.|\n",
      "| elliotlaketoday.com| 64.233.184.27|aspmx2.googlemail...|        MX| 15169|.com.|\n",
      "|      coolerguys.com| 64.233.184.27|alt1.aspmx.l.goog...|        MX| 15169|.com.|\n",
      "|   boardgamehalv.com|  185.56.84.11|mx10.mailspamprot...|        MX|396982|.com.|\n",
      "|         nelhage.com| 64.233.184.27|alt1.aspmx.l.goog...|        MX| 15169|.com.|\n",
      "|conservativeresea...| 64.233.184.27|aspmx2.googlemail...|        MX| 15169|.com.|\n",
      "+--------------------+--------------+--------------------+----------+------+-----+\n",
      "only showing top 20 rows\n",
      "\n"
     ]
    }
   ],
   "source": [
    "# Read PARQUET file into dataframe\n",
    "df = spark.read.parquet(\"all_ipv4_queries.parquet\")\n",
    "\n",
    "df.show()\n"
   ]
  },
  {
   "cell_type": "code",
   "execution_count": 5,
   "id": "9d47c6dc",
   "metadata": {},
   "outputs": [],
   "source": [
    "# pip install geoip2"
   ]
  },
  {
   "cell_type": "code",
   "execution_count": 4,
   "id": "2c68b5c5",
   "metadata": {},
   "outputs": [
    {
     "name": "stderr",
     "output_type": "stream",
     "text": [
      "[Stage 16:>                                                         (0 + 1) / 1]\r"
     ]
    },
    {
     "name": "stdout",
     "output_type": "stream",
     "text": [
      "+------------------+--------------------+--------------------+----------+------+-----+-------------+\n",
      "|            domain|        ipv6_address|          query_name|query_type|   asn|  tld|     location|\n",
      "+------------------+--------------------+--------------------+----------+------+-----+-------------+\n",
      "|            007.ae|2600:4c00:300:83:...|             007.ae.|        MX| 63410| .ae.|United States|\n",
      "|            009.am|       2a02:6b8::311|       mx.yandex.ru.|        MX|208722| .am.|       Russia|\n",
      "|        01math.com|       2a02:6b8::311|      mx.yandex.net.|        MX|208722|.com.|       Russia|\n",
      "|            021.rs|2a00:1450:4025:40...|ALT2.ASPMX.L.GOOG...|        MX| 15169| .rs.|  Netherlands|\n",
      "|        027art.com| 240d:c040:1:40::133|    mxdomain.qq.com.|        MX|132203|.com.|    Singapore|\n",
      "|03ed9035a0801f.com|    2001:430:fff6::4|mx156.hostedmxser...|        MX|  7332|.com.|United States|\n",
      "|            056.ua|2a00:1450:4025:c0...|alt4.aspmx.l.goog...|        MX| 15169| .ua.|       Poland|\n",
      "|           0564.ua|2a00:1450:4013:c1...|alt3.aspmx.l.goog...|        MX| 15169| .ua.|  Netherlands|\n",
      "|            0pk.me|       2a02:6b8::311|      mx.yandex.net.|        MX|208722| .me.|       Russia|\n",
      "|      0pointer.net|2a01:238:43ed:c30...|gardel.0pointer.net.|        MX|  6724|.net.|      Germany|\n",
      "|       1-profit.ru|       2a02:6b8::311|      mx.yandex.net.|        MX|208722| .ru.|       Russia|\n",
      "|1000grad-epaper.de|2a00:1450:400c:c0...|aspmx2.googlemail...|        MX| 15169| .de.|      Belgium|\n",
      "|     1000kitap.com|2800:3f0:4003:c01...| aspmx.l.google.com.|        MX| 15169|.com.|        Chile|\n",
      "|   1000tabletok.ru|2a01:4a0:2002:239...|mail.1000tabletok...|        MX| 51191| .ru.|      Germany|\n",
      "|  100layercake.com|2a00:1450:4025:40...|alt2.aspmx.l.goog...|        MX| 15169|.com.|  Netherlands|\n",
      "|       100miam.com|     2606:4700:f5::b|route1.mx.cloudfl...|        MX| 13335|.com.|United States|\n",
      "|       100realt.ru|       2a02:6b8::311|      mx.yandex.net.|        MX|208722| .ru.|       Russia|\n",
      "|      101-help.com|    2606:4700:f5::10|isaac.mx.cloudfla...|        MX| 13335|.com.|United States|\n",
      "|       101poisk.ru|       2a02:6b8::311|      mx.yandex.net.|        MX|208722| .ru.|       Russia|\n",
      "|          10kor.ru|       2a02:6b8::311|      mx.yandex.net.|        MX|208722| .ru.|       Russia|\n",
      "+------------------+--------------------+--------------------+----------+------+-----+-------------+\n",
      "only showing top 20 rows\n",
      "\n"
     ]
    },
    {
     "name": "stderr",
     "output_type": "stream",
     "text": [
      "\r",
      "                                                                                \r"
     ]
    }
   ],
   "source": [
    "from pyspark.sql.functions import udf\n",
    "from pyspark.sql.types import StringType\n",
    "import socket\n",
    "\n",
    "import argparse\n",
    "import geoip2.database\n",
    "\n",
    "def geo_country(trg_ip):\n",
    "    with geoip2.database.Reader('GeoLite2-City.mmdb') as geo:\n",
    "        try:\n",
    "            res = geo.city(trg_ip)\n",
    "            country = res.country.name\n",
    "        \n",
    "            return country\n",
    "        except:\n",
    "            return None\n",
    "\n",
    "geo_map_udf = udf(geo_country)\n",
    "\n",
    "final = df.withColumn(\"location\", geo_map_udf(df[\"ipv4_address\"]))\n",
    "\n",
    "final.show()\n",
    "\n"
   ]
  },
  {
   "cell_type": "code",
   "execution_count": 5,
   "id": "6f764725",
   "metadata": {},
   "outputs": [
    {
     "name": "stderr",
     "output_type": "stream",
     "text": [
      "[Stage 19:>                                                         (0 + 1) / 1]\r"
     ]
    },
    {
     "name": "stdout",
     "output_type": "stream",
     "text": [
      "+------------------+--------------------+--------------------+----------+------+-----+-------------+--------+\n",
      "|            domain|        ipv6_address|          query_name|query_type|   asn|  tld|     location|latitude|\n",
      "+------------------+--------------------+--------------------+----------+------+-----+-------------+--------+\n",
      "|            007.ae|2600:4c00:300:83:...|             007.ae.|        MX| 63410| .ae.|United States|  37.751|\n",
      "|            009.am|       2a02:6b8::311|       mx.yandex.ru.|        MX|208722| .am.|       Russia| 55.7483|\n",
      "|        01math.com|       2a02:6b8::311|      mx.yandex.net.|        MX|208722|.com.|       Russia| 55.7483|\n",
      "|            021.rs|2a00:1450:4025:40...|ALT2.ASPMX.L.GOOG...|        MX| 15169| .rs.|  Netherlands| 52.9597|\n",
      "|        027art.com| 240d:c040:1:40::133|    mxdomain.qq.com.|        MX|132203|.com.|    Singapore|  1.3673|\n",
      "|03ed9035a0801f.com|    2001:430:fff6::4|mx156.hostedmxser...|        MX|  7332|.com.|United States|  37.751|\n",
      "|            056.ua|2a00:1450:4025:c0...|alt4.aspmx.l.goog...|        MX| 15169| .ua.|       Poland| 52.2296|\n",
      "|           0564.ua|2a00:1450:4013:c1...|alt3.aspmx.l.goog...|        MX| 15169| .ua.|  Netherlands| 53.2157|\n",
      "|            0pk.me|       2a02:6b8::311|      mx.yandex.net.|        MX|208722| .me.|       Russia| 55.7483|\n",
      "|      0pointer.net|2a01:238:43ed:c30...|gardel.0pointer.net.|        MX|  6724|.net.|      Germany| 51.2993|\n",
      "|       1-profit.ru|       2a02:6b8::311|      mx.yandex.net.|        MX|208722| .ru.|       Russia| 55.7483|\n",
      "|1000grad-epaper.de|2a00:1450:400c:c0...|aspmx2.googlemail...|        MX| 15169| .de.|      Belgium| 50.8534|\n",
      "|     1000kitap.com|2800:3f0:4003:c01...| aspmx.l.google.com.|        MX| 15169|.com.|        Chile|-33.4521|\n",
      "|   1000tabletok.ru|2a01:4a0:2002:239...|mail.1000tabletok...|        MX| 51191| .ru.|      Germany| 51.2993|\n",
      "|  100layercake.com|2a00:1450:4025:40...|alt2.aspmx.l.goog...|        MX| 15169|.com.|  Netherlands| 52.9597|\n",
      "|       100miam.com|     2606:4700:f5::b|route1.mx.cloudfl...|        MX| 13335|.com.|United States|  37.751|\n",
      "|       100realt.ru|       2a02:6b8::311|      mx.yandex.net.|        MX|208722| .ru.|       Russia| 55.7483|\n",
      "|      101-help.com|    2606:4700:f5::10|isaac.mx.cloudfla...|        MX| 13335|.com.|United States|  37.751|\n",
      "|       101poisk.ru|       2a02:6b8::311|      mx.yandex.net.|        MX|208722| .ru.|       Russia| 55.7483|\n",
      "|          10kor.ru|       2a02:6b8::311|      mx.yandex.net.|        MX|208722| .ru.|       Russia| 55.7483|\n",
      "+------------------+--------------------+--------------------+----------+------+-----+-------------+--------+\n",
      "only showing top 20 rows\n",
      "\n"
     ]
    },
    {
     "name": "stderr",
     "output_type": "stream",
     "text": [
      "\r",
      "                                                                                \r"
     ]
    }
   ],
   "source": [
    "from pyspark.sql.functions import udf\n",
    "from pyspark.sql.types import StringType\n",
    "import socket\n",
    "\n",
    "import argparse\n",
    "import geoip2.database\n",
    "    \n",
    "def geo_latitude(trg_ip):\n",
    "    with geoip2.database.Reader('GeoLite2-City.mmdb') as geo:\n",
    "        try:\n",
    "            res = geo.city(trg_ip)\n",
    "            latitude = res.location.latitude\n",
    "\n",
    "            return latitude\n",
    "        except:\n",
    "            return None\n",
    "\n",
    "geo_lati_udf = udf(geo_latitude)\n",
    "\n",
    "final = final.withColumn(\"latitude\", geo_lati_udf(final[\"ipv4_address\"]))\n",
    "\n",
    "final.show()"
   ]
  },
  {
   "cell_type": "code",
   "execution_count": 6,
   "id": "7479fa51",
   "metadata": {},
   "outputs": [
    {
     "name": "stderr",
     "output_type": "stream",
     "text": [
      "[Stage 22:>                                                         (0 + 1) / 1]\r"
     ]
    },
    {
     "name": "stdout",
     "output_type": "stream",
     "text": [
      "+------------------+--------------------+--------------------+----------+------+-----+-------------+--------+---------+\n",
      "|            domain|        ipv6_address|          query_name|query_type|   asn|  tld|     location|latitude|longitude|\n",
      "+------------------+--------------------+--------------------+----------+------+-----+-------------+--------+---------+\n",
      "|            007.ae|2600:4c00:300:83:...|             007.ae.|        MX| 63410| .ae.|United States|  37.751|  -97.822|\n",
      "|            009.am|       2a02:6b8::311|       mx.yandex.ru.|        MX|208722| .am.|       Russia| 55.7483|  37.6171|\n",
      "|        01math.com|       2a02:6b8::311|      mx.yandex.net.|        MX|208722|.com.|       Russia| 55.7483|  37.6171|\n",
      "|            021.rs|2a00:1450:4025:40...|ALT2.ASPMX.L.GOOG...|        MX| 15169| .rs.|  Netherlands| 52.9597|   4.7517|\n",
      "|        027art.com| 240d:c040:1:40::133|    mxdomain.qq.com.|        MX|132203|.com.|    Singapore|  1.3673| 103.8014|\n",
      "|03ed9035a0801f.com|    2001:430:fff6::4|mx156.hostedmxser...|        MX|  7332|.com.|United States|  37.751|  -97.822|\n",
      "|            056.ua|2a00:1450:4025:c0...|alt4.aspmx.l.goog...|        MX| 15169| .ua.|       Poland| 52.2296|  21.0067|\n",
      "|           0564.ua|2a00:1450:4013:c1...|alt3.aspmx.l.goog...|        MX| 15169| .ua.|  Netherlands| 53.2157|   6.5765|\n",
      "|            0pk.me|       2a02:6b8::311|      mx.yandex.net.|        MX|208722| .me.|       Russia| 55.7483|  37.6171|\n",
      "|      0pointer.net|2a01:238:43ed:c30...|gardel.0pointer.net.|        MX|  6724|.net.|      Germany| 51.2993|    9.491|\n",
      "|       1-profit.ru|       2a02:6b8::311|      mx.yandex.net.|        MX|208722| .ru.|       Russia| 55.7483|  37.6171|\n",
      "|1000grad-epaper.de|2a00:1450:400c:c0...|aspmx2.googlemail...|        MX| 15169| .de.|      Belgium| 50.8534|    4.347|\n",
      "|     1000kitap.com|2800:3f0:4003:c01...| aspmx.l.google.com.|        MX| 15169|.com.|        Chile|-33.4521| -70.6536|\n",
      "|   1000tabletok.ru|2a01:4a0:2002:239...|mail.1000tabletok...|        MX| 51191| .ru.|      Germany| 51.2993|    9.491|\n",
      "|  100layercake.com|2a00:1450:4025:40...|alt2.aspmx.l.goog...|        MX| 15169|.com.|  Netherlands| 52.9597|   4.7517|\n",
      "|       100miam.com|     2606:4700:f5::b|route1.mx.cloudfl...|        MX| 13335|.com.|United States|  37.751|  -97.822|\n",
      "|       100realt.ru|       2a02:6b8::311|      mx.yandex.net.|        MX|208722| .ru.|       Russia| 55.7483|  37.6171|\n",
      "|      101-help.com|    2606:4700:f5::10|isaac.mx.cloudfla...|        MX| 13335|.com.|United States|  37.751|  -97.822|\n",
      "|       101poisk.ru|       2a02:6b8::311|      mx.yandex.net.|        MX|208722| .ru.|       Russia| 55.7483|  37.6171|\n",
      "|          10kor.ru|       2a02:6b8::311|      mx.yandex.net.|        MX|208722| .ru.|       Russia| 55.7483|  37.6171|\n",
      "+------------------+--------------------+--------------------+----------+------+-----+-------------+--------+---------+\n",
      "only showing top 20 rows\n",
      "\n"
     ]
    },
    {
     "name": "stderr",
     "output_type": "stream",
     "text": [
      "\r",
      "                                                                                \r"
     ]
    }
   ],
   "source": [
    "from pyspark.sql.functions import udf\n",
    "from pyspark.sql.types import StringType\n",
    "import socket\n",
    "\n",
    "import argparse\n",
    "import geoip2.database\n",
    "    \n",
    "def geo_longitude(trg_ip):\n",
    "    with geoip2.database.Reader('GeoLite2-City.mmdb') as geo:\n",
    "        try:\n",
    "            res = geo.city(trg_ip)\n",
    "            longitude = res.location.longitude\n",
    "\n",
    "            return str(longitude)\n",
    "        except:\n",
    "            return None\n",
    "\n",
    "geo_longi_udf = udf(geo_longitude)\n",
    "\n",
    "final = final.withColumn(\"longitude\", geo_longi_udf(final[\"ipv4_address\"]))\n",
    "\n",
    "final.show()"
   ]
  },
  {
   "cell_type": "code",
   "execution_count": null,
   "id": "6826dcad",
   "metadata": {},
   "outputs": [],
   "source": []
  }
 ],
 "metadata": {
  "kernelspec": {
   "display_name": "Python 3 (ipykernel)",
   "language": "python",
   "name": "python3"
  },
  "language_info": {
   "codemirror_mode": {
    "name": "ipython",
    "version": 3
   },
   "file_extension": ".py",
   "mimetype": "text/x-python",
   "name": "python",
   "nbconvert_exporter": "python",
   "pygments_lexer": "ipython3",
   "version": "3.10.9"
  }
 },
 "nbformat": 4,
 "nbformat_minor": 5
}
